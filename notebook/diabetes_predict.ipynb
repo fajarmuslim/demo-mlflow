{
 "cells": [
  {
   "cell_type": "code",
   "execution_count": 13,
   "id": "909bc397-d15c-427d-9ecf-142e81a9a7dd",
   "metadata": {},
   "outputs": [],
   "source": [
    "import mlflow\n",
    "\n",
    "from sklearn.model_selection import train_test_split\n",
    "from sklearn.datasets import load_diabetes\n"
   ]
  },
  {
   "cell_type": "code",
   "execution_count": 14,
   "id": "89658a66-4176-4b1c-b6ce-77ac1cb1de6d",
   "metadata": {},
   "outputs": [],
   "source": [
    "mlflow.set_tracking_uri('http://mlflow-web:5000')"
   ]
  },
  {
   "cell_type": "code",
   "execution_count": 17,
   "id": "4a8ebab3-e95c-4082-9dcc-b7f1de869df1",
   "metadata": {},
   "outputs": [
    {
     "data": {
      "application/vnd.jupyter.widget-view+json": {
       "model_id": "47b030c5e12d46ac84a1fc35052d0e90",
       "version_major": 2,
       "version_minor": 0
      },
      "text/plain": [
       "Downloading artifacts:   0%|          | 0/9 [00:00<?, ?it/s]"
      ]
     },
     "metadata": {},
     "output_type": "display_data"
    },
    {
     "name": "stdout",
     "output_type": "stream",
     "text": [
      "[164.64686447 242.52314202 233.06195165 120.97328734 101.09193228\n",
      " 134.49556411 122.72741132 237.19204438  98.79812596 179.62113143\n",
      "  80.860676   127.26450379 206.74313641 170.65498554  98.99793067\n",
      " 242.50405187 122.9672995  105.79880114 131.55751031 140.38219576\n",
      " 167.31145789  97.65443653 217.53695572 100.12468551 153.09152599\n",
      " 108.15227329 143.03523504 226.81737946 151.16557872  92.39970307\n",
      " 159.92761582 127.67212767 237.95126388 105.55646326 155.11398403\n",
      "  97.98508467 176.27398629 152.81604976  77.86017548 121.77996163\n",
      " 205.93849166 110.91024605 108.45798986 178.33241069 208.31652798\n",
      " 102.6865569   92.57642621  93.26328431 206.36570519 118.56858941\n",
      " 187.56644751  84.39947915  80.9429261  105.70358305 109.02186305\n",
      " 268.00273777 208.20906636 114.07664196 140.8110545  116.91420438\n",
      " 165.34932748 189.4870828  183.73949464 100.05035992 224.62453924\n",
      "  85.11549809 118.53440271  87.65463483 102.43325534 102.46642986\n",
      "  96.82675541 172.74053512 104.02842222 172.88620724 224.7661606\n",
      " 154.57543959 101.53662579 148.74053521 131.82458864  79.8050802\n",
      " 167.69242035 227.961657   108.89068837 112.83359074  94.86580102\n",
      " 219.60027054 119.91493834 174.78481063 161.97180525 135.57776421\n",
      " 166.82430096 243.59921267  97.15042537 167.79362065 110.68724888\n",
      " 215.90958888 244.80658136 165.52923794 116.55355798 105.05194682\n",
      " 157.42726385 140.10140594 203.63016646  96.69638968 189.9747702\n",
      " 205.62433937 150.36835803 260.80035586 101.52924109 219.15991905\n",
      " 143.73019421]\n"
     ]
    }
   ],
   "source": [
    "db = load_diabetes()\n",
    "X_train, X_test, y_train, y_test = train_test_split(db.data, db.target)\n",
    "\n",
    "model_name = \"Diabetes Model\"\n",
    "# stage = \"Production\"\n",
    "# model = mlflow.sklearn.load_model(model_uri=f\"models:/{model_name}/{stage}\")\n",
    "model = mlflow.sklearn.load_model(model_uri=f\"models:/{model_name}/1\")\n",
    "predictions = model.predict(X_test)\n",
    "print(predictions)"
   ]
  },
  {
   "cell_type": "code",
   "execution_count": null,
   "id": "d6091e29-3979-476f-9ea6-2116a2f2e994",
   "metadata": {},
   "outputs": [],
   "source": []
  },
  {
   "cell_type": "code",
   "execution_count": null,
   "id": "56d6d408-0fd1-45bd-b476-fd1293ffc652",
   "metadata": {},
   "outputs": [],
   "source": []
  },
  {
   "cell_type": "code",
   "execution_count": null,
   "id": "5985d176-50c8-44e1-9b10-90c53a1c0684",
   "metadata": {},
   "outputs": [],
   "source": []
  }
 ],
 "metadata": {
  "kernelspec": {
   "display_name": "Python 3 (ipykernel)",
   "language": "python",
   "name": "python3"
  },
  "language_info": {
   "codemirror_mode": {
    "name": "ipython",
    "version": 3
   },
   "file_extension": ".py",
   "mimetype": "text/x-python",
   "name": "python",
   "nbconvert_exporter": "python",
   "pygments_lexer": "ipython3",
   "version": "3.11.6"
  }
 },
 "nbformat": 4,
 "nbformat_minor": 5
}

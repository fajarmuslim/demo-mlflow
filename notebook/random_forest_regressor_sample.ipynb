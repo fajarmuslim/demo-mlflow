{
 "cells": [
  {
   "cell_type": "code",
   "execution_count": 1,
   "id": "75e05578-1584-43e6-b313-4b59943b1859",
   "metadata": {},
   "outputs": [],
   "source": [
    "import mlflow\n",
    "\n",
    "from sklearn.model_selection import train_test_split\n",
    "from sklearn.datasets import load_diabetes\n",
    "from sklearn.ensemble import RandomForestRegressor"
   ]
  },
  {
   "cell_type": "code",
   "execution_count": 2,
   "id": "e23d207d-a824-4f06-b857-6e8afe3f5b0f",
   "metadata": {},
   "outputs": [],
   "source": [
    "mlflow.set_tracking_uri('http://mlflow-web:5000')"
   ]
  },
  {
   "cell_type": "code",
   "execution_count": 3,
   "id": "d28ba067-8ad7-4e70-862c-946a187c56eb",
   "metadata": {},
   "outputs": [
    {
     "data": {
      "text/plain": [
       "<Experiment: artifact_location='s3://mlflow/1', creation_time=1714170604804, experiment_id='1', last_update_time=1714170604804, lifecycle_stage='active', name='experiment_diabetes', tags={}>"
      ]
     },
     "execution_count": 3,
     "metadata": {},
     "output_type": "execute_result"
    }
   ],
   "source": [
    "experiment_name = \"experiment_diabetes\"\n",
    "mlflow.set_experiment(experiment_name)"
   ]
  },
  {
   "cell_type": "code",
   "execution_count": 4,
   "id": "6022b32e-35da-4881-a8c9-40860dad5798",
   "metadata": {},
   "outputs": [
    {
     "name": "stderr",
     "output_type": "stream",
     "text": [
      "2024/04/27 02:41:24 INFO mlflow.tracking.fluent: Autologging successfully enabled for sklearn.\n"
     ]
    }
   ],
   "source": [
    "mlflow.autolog()"
   ]
  },
  {
   "cell_type": "code",
   "execution_count": 5,
   "id": "e7253be4-6428-4c97-b5d1-bc3168be6d27",
   "metadata": {},
   "outputs": [
    {
     "name": "stderr",
     "output_type": "stream",
     "text": [
      "2024/04/27 02:41:24 INFO mlflow.utils.autologging_utils: Created MLflow autologging run with ID 'a51bc9f754df4e9b897986395caf572e', which will track hyperparameters, performance metrics, model artifacts, and lineage information for the current sklearn workflow\n",
      "2024/04/27 02:41:26 WARNING mlflow.utils.autologging_utils: MLflow autologging encountered a warning: \"/opt/conda/lib/python3.11/site-packages/_distutils_hack/__init__.py:33: UserWarning: Setuptools is replacing distutils.\"\n"
     ]
    }
   ],
   "source": [
    "db = load_diabetes()\n",
    "X_train, X_test, y_train, y_test = train_test_split(db.data, db.target)\n",
    "\n",
    "# Create and train models.\n",
    "rf = RandomForestRegressor(n_estimators=100, max_depth=6, max_features=3)\n",
    "rf.fit(X_train, y_train)\n",
    "\n",
    "# Use the model to make predictions on the test dataset.\n",
    "predictions = rf.predict(X_test)"
   ]
  },
  {
   "cell_type": "code",
   "execution_count": 6,
   "id": "3f43109e-313d-4491-92ef-7c48e7360048",
   "metadata": {},
   "outputs": [
    {
     "data": {
      "text/plain": [
       "array([122.80669389, 111.13471435, 205.54307268, 118.11688122,\n",
       "       242.78126084,  81.21765503,  85.85566268, 224.04584271,\n",
       "       222.98758713,  89.22167792, 166.65781041,  94.99365117,\n",
       "       207.55203237, 106.32030904, 179.25508024, 104.88115163,\n",
       "       190.42790123, 158.79989185, 175.00790436, 181.35219767,\n",
       "       201.65807417, 113.20765939,  79.45983897,  81.74919355,\n",
       "       149.29523813, 109.48921782, 121.25582236, 121.63409951,\n",
       "       137.23648201, 146.65540489,  81.58405635, 242.40470666,\n",
       "       173.11093375, 130.62582839,  85.19188814,  77.2163093 ,\n",
       "       156.17604799, 170.82681875, 134.45660436, 214.31529585,\n",
       "       243.58122296, 176.15941247, 256.42000189, 185.11185065,\n",
       "       104.08471796, 175.44290005, 120.71729844, 170.56865617,\n",
       "       195.7217307 , 128.21629306, 178.60949555, 223.60937475,\n",
       "       115.69770753, 179.44234886, 136.6784026 ,  80.67648314,\n",
       "       116.5484652 , 139.38386377, 111.36281047, 161.94503414,\n",
       "       168.22624478, 137.42210258, 135.88878121, 234.77329566,\n",
       "       125.20768638, 120.76511501, 216.6558    , 177.26716657,\n",
       "       198.86604419, 105.70491987, 119.26349946, 218.16726716,\n",
       "       103.28884141, 124.79702995, 247.07870657, 162.10626297,\n",
       "       193.11569841, 192.84134165, 223.29573777, 100.89426522,\n",
       "       173.85366895, 189.45803491, 156.92419227, 131.68110312,\n",
       "       117.3072468 , 108.10094779, 204.72836823, 143.40373578,\n",
       "       142.98467797,  98.29376082, 241.21957086, 185.64589234,\n",
       "        96.1450295 ,  82.97265696, 139.10636778, 129.05395975,\n",
       "       194.44621341, 128.15025271, 153.21115765,  82.03100891,\n",
       "        94.39574184,  88.69145822, 121.03249439, 228.937013  ,\n",
       "       100.49305422, 120.35162452,  86.60077531, 126.84346965,\n",
       "       110.99668858,  91.18781976, 182.27765606])"
      ]
     },
     "execution_count": 6,
     "metadata": {},
     "output_type": "execute_result"
    }
   ],
   "source": [
    "predictions"
   ]
  },
  {
   "cell_type": "code",
   "execution_count": null,
   "id": "a2e54dbf-62f7-4bc7-9afd-22b4eef470c4",
   "metadata": {},
   "outputs": [],
   "source": []
  },
  {
   "cell_type": "code",
   "execution_count": null,
   "id": "f1a24e32-1086-4004-b7dc-117d4ebcbed8",
   "metadata": {},
   "outputs": [],
   "source": []
  }
 ],
 "metadata": {
  "kernelspec": {
   "display_name": "Python 3 (ipykernel)",
   "language": "python",
   "name": "python3"
  },
  "language_info": {
   "codemirror_mode": {
    "name": "ipython",
    "version": 3
   },
   "file_extension": ".py",
   "mimetype": "text/x-python",
   "name": "python",
   "nbconvert_exporter": "python",
   "pygments_lexer": "ipython3",
   "version": "3.11.6"
  }
 },
 "nbformat": 4,
 "nbformat_minor": 5
}
